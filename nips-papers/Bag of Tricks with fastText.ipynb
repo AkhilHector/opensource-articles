{
 "cells": [
  {
   "cell_type": "markdown",
   "metadata": {},
   "source": [
    "# Bag of tricks for efficient text classification"
   ]
  },
  {
   "cell_type": "markdown",
   "metadata": {},
   "source": [
    "### Import the necessary stuff"
   ]
  },
  {
   "cell_type": "code",
   "execution_count": 26,
   "metadata": {},
   "outputs": [],
   "source": [
    "import numpy as np\n",
    "import tensorflow as tf\n",
    "import matplotlib.image as img\n",
    "import matplotlib.pyplot as plt\n",
    "from collections import defaultdict\n",
    "\n",
    "# inline matplotlib\n",
    "%matplotlib inline"
   ]
  },
  {
   "cell_type": "markdown",
   "metadata": {},
   "source": [
    "### Model Architecture"
   ]
  },
  {
   "cell_type": "markdown",
   "metadata": {},
   "source": [
    "#### Probability distribution over predefined classes"
   ]
  },
  {
   "cell_type": "markdown",
   "metadata": {},
   "source": [
    "$$\n",
    "\\\\- \\frac{1}{N}\\sum_{n=1}^{N} y_n \\log(f(BAx_n))\n",
    "\\\\\n",
    "where\\\\\n",
    "x_n = normalized \\hspace{0.075cm} bag \\hspace{0.075cm} of \\hspace{0.075cm} features \\hspace{0.075cm} of \\hspace{0.075cm} the \\hspace{0.075cm} n^{th} \\hspace{0.075cm} document\\\\\n",
    "y_n = the \\hspace{0.075cm} label\\\\\n",
    "A, B = weight \\hspace{0.075cm} matrices\\\\\n",
    "$$"
   ]
  },
  {
   "cell_type": "code",
   "execution_count": 27,
   "metadata": {},
   "outputs": [
    {
     "data": {
      "text/plain": [
       "<matplotlib.image.AxesImage at 0x1100b16d8>"
      ]
     },
     "execution_count": 27,
     "metadata": {},
     "output_type": "execute_result"
    },
    {
     "data": {
      "image/png": "[encoded data removed]",
      "text/plain": [
       "<Figure size 936x936 with 1 Axes>"
      ]
     },
     "metadata": {},
     "output_type": "display_data"
    }
   ],
   "source": [
    "i = img.imread('1.png')\n",
    "\n",
    "# remove all unecessary stuff and display the image\n",
    "plt.rcParams['figure.figsize'] = (13, 13)\n",
    "plt.axis('off')\n",
    "plt.imshow(i)"
   ]
  },
  {
   "cell_type": "code",
   "execution_count": 30,
   "metadata": {},
   "outputs": [],
   "source": [
    "# init an empty parameter set with a defaultdict\n",
    "parms = defaultdict(dict)\n",
    "\n",
    "parms['label_size'] = 10\n",
    "parms['batch_size'] = 10\n",
    "parms['vocab_size'] = 20\n",
    "parms['learn_rate'] = 0.1"
   ]
  },
  {
   "cell_type": "markdown",
   "metadata": {},
   "source": [
    "# Problem Statement"
   ]
  },
  {
   "cell_type": "markdown",
   "metadata": {},
   "source": [
    "#### Some metadata about the dataset\n",
    "NIPS is a machine learning conference focussed on diverse machine learning topics ranging from neural networks, deep learning etc. The dataset that would be used for the experiment is a time series collection of scholarly data that includes mostly textual data. The papers range from the timeline `1987` - `2017`. \n",
    "\n",
    "#### The research question\n",
    "Can we use `fastText` to build a word embedding model that would cluster scholarly papers on the basis of topic and is there a significant computational advantange of using `fastText` over a normal `word2vec` model.\n",
    "\n",
    "#### what is word2vec ?\n",
    "Vectorization in linguistics and natural language processing is a process where words/text are mapped into vectors so that there is a numerical model of the text build for the machine to easily understand the nature of the text. `word2vec` is a vectorization technique that represents the target words of a corpus into a neural network where the hidden layer encodes the word representation. `word2vec` conceptually works with two types of implementations:\n",
    "- `skip-gram`:\n",
    "       A neural network representation technique where the input is the target word and the outputs are the words surrounding the target words. The input and the outputs are generally based out of the same dimension. The hidden layer for the neural network is equal to the word embedding size. The activation function is applied on each element so that it could each element of the output vector describe how a specific word will appear in the context. This model is efficient for understanding relationship between two vectors\n",
    "- `CBOW`:\n",
    "   A representation\n",
    "   \n",
    "#### what is fastText ?\n",
    "    "
   ]
  },
  {
   "cell_type": "markdown",
   "metadata": {},
   "source": [
    "# Baseline Deep learning models"
   ]
  },
  {
   "cell_type": "code",
   "execution_count": null,
   "metadata": {},
   "outputs": [],
   "source": []
  },
  {
   "cell_type": "markdown",
   "metadata": {},
   "source": [
    "# Train the fastText model"
   ]
  },
  {
   "cell_type": "code",
   "execution_count": 3,
   "metadata": {},
   "outputs": [],
   "source": [
    "# train"
   ]
  },
  {
   "cell_type": "markdown",
   "metadata": {},
   "source": [
    "# Test the fastText model"
   ]
  },
  {
   "cell_type": "code",
   "execution_count": 29,
   "metadata": {},
   "outputs": [],
   "source": [
    "# test"
   ]
  }
 ],
 "metadata": {
  "kernelspec": {
   "display_name": "Python 3",
   "language": "python",
   "name": "python3"
  },
  "language_info": {
   "codemirror_mode": {
    "name": "ipython",
    "version": 3
   },
   "file_extension": ".py",
   "mimetype": "text/x-python",
   "name": "python",
   "nbconvert_exporter": "python",
   "pygments_lexer": "ipython3",
   "version": "3.6.5"
  }
 },
 "nbformat": 4,
 "nbformat_minor": 2
}
