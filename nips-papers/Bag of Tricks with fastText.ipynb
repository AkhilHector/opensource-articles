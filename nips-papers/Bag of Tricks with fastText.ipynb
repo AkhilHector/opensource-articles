{
 "cells": [
  {
   "cell_type": "markdown",
   "metadata": {},
   "source": [
    "# Bag of tricks for efficient text classification"
   ]
  },
  {
   "cell_type": "markdown",
   "metadata": {},
   "source": [
    "### Import the necessary stuff"
   ]
  },
  {
   "cell_type": "code",
   "execution_count": 31,
   "metadata": {},
   "outputs": [],
   "source": [
    "import os\n",
    "import os.path\n",
    "import nltk\n",
    "import string\n",
    "import fasttext\n",
    "import numpy as np\n",
    "import pandas as pd\n",
    "import tensorflow as tf\n",
    "from smart_open import smart_open\n",
    "import matplotlib.image as img\n",
    "import matplotlib.pyplot as plt\n",
    "from gensim.models import FastText\n",
    "from gensim.models import Word2Vec\n",
    "from gensim.models import KeyedVectors\n",
    "from gensim.models.word2vec import Text8Corpus\n",
    "from sklearn.cluster import KMeans\n",
    "from collections import defaultdict\n",
    "from nltk import word_tokenize as tokenize\n",
    "from scipy.spatial.distance import squareform, pdist\n",
    "from nltk.stem.snowball import SnowballStemmer as stemmer\n",
    "from sklearn.feature_extraction.text import TfidfVectorizer\n",
    "\n",
    "# inline matplotlib\n",
    "%matplotlib inline"
   ]
  },
  {
   "cell_type": "markdown",
   "metadata": {},
   "source": [
    "### Model Architecture"
   ]
  },
  {
   "cell_type": "markdown",
   "metadata": {},
   "source": [
    "#### Probability distribution over predefined classes"
   ]
  },
  {
   "cell_type": "markdown",
   "metadata": {},
   "source": [
    "$$\n",
    "\\\\- \\frac{1}{N}\\sum_{n=1}^{N} y_n \\log(f(BAx_n))\n",
    "\\\\\n",
    "where\\\\\n",
    "x_n = normalized \\hspace{0.075cm} bag \\hspace{0.075cm} of \\hspace{0.075cm} features \\hspace{0.075cm} of \\hspace{0.075cm} the \\hspace{0.075cm} n^{th} \\hspace{0.075cm} document\\\\\n",
    "y_n = the \\hspace{0.075cm} label\\\\\n",
    "A, B = weight \\hspace{0.075cm} matrices\\\\\n",
    "$$"
   ]
  },
  {
   "cell_type": "markdown",
   "metadata": {},
   "source": [
    "#### Probability of path from root of the node"
   ]
  },
  {
   "cell_type": "markdown",
   "metadata": {},
   "source": [
    "$$\n",
    "\\\\P(n_{l+1}) = \\prod_{i=1}^{l} P(n_i)\n",
    "\\\\ where \\\\\n",
    "l+1 \\hspace{0.075cm} = \\hspace{0.075cm} Depth \\hspace{0.075cm} of \\hspace{0.075cm} the \\hspace{0.075cm} node \\hspace{0.075cm} \\\\\n",
    "n_i \\hspace{0.075cm} = \\hspace{0.075cm} i^{th} \\hspace{0.075cm} parent\\\\\n",
    "$$"
   ]
  },
  {
   "cell_type": "code",
   "execution_count": 2,
   "metadata": {},
   "outputs": [
    {
     "data": {
      "text/plain": [
       "<matplotlib.image.AxesImage at 0x11941eba8>"
      ]
     },
     "execution_count": 2,
     "metadata": {},
     "output_type": "execute_result"
    },
    {
     "data": {
      "image/png": "[encoded data removed]",
      "text/plain": [
       "<Figure size 936x936 with 1 Axes>"
      ]
     },
     "metadata": {},
     "output_type": "display_data"
    }
   ],
   "source": [
    "i = img.imread('1.png')\n",
    "\n",
    "# remove all unecessary stuff and display the image\n",
    "plt.rcParams['figure.figsize'] = (13, 13)\n",
    "plt.axis('off')\n",
    "plt.imshow(i)"
   ]
  },
  {
   "cell_type": "code",
   "execution_count": 3,
   "metadata": {},
   "outputs": [],
   "source": [
    "# init an empty parameter set with a defaultdict\n",
    "parms = defaultdict(dict)\n",
    "\n",
    "parms['label_size'] = 10\n",
    "parms['batch_size'] = 10\n",
    "parms['vocab_size'] = 20\n",
    "parms['learn_rate'] = 0.1"
   ]
  },
  {
   "cell_type": "markdown",
   "metadata": {},
   "source": [
    "# Problem Statement"
   ]
  },
  {
   "cell_type": "markdown",
   "metadata": {},
   "source": [
    "#### Some metadata about the dataset\n",
    "NIPS is a machine learning conference focussed on diverse machine learning topics ranging from neural networks, deep learning etc. The dataset that would be used for the experiment is a time series collection of scholarly data that includes mostly textual data. The papers range from the timeline `1987` - `2017`. \n",
    "\n",
    "#### The research question\n",
    "Can we use `fastText` to build a word embedding model that would cluster scholarly papers on the basis of topic and is there a significant computational advantange of using `fastText` over a normal `word2vec` model.\n",
    "\n",
    "#### what is word2vec ?\n",
    "Vectorization in linguistics and natural language processing is a process where words/text are mapped into vectors so that there is a numerical model of the text build for the machine to easily understand the nature of the text. `word2vec` is a vectorization technique that represents the target words of a corpus into a neural network where the hidden layer encodes the word representation. `word2vec` conceptually works with two types of implementations:\n",
    "- `skip-gram`:\n",
    "       A neural network representation technique where the input is the target word and the outputs are the words surrounding the target words. The input and the outputs are generally based out of the same dimension. The hidden layer for the neural network is equal to the word embedding size. The activation function is applied on each element so that it could each element of the output vector describe how a specific word will appear in the context. This model is efficient for understanding relationship between two vectors\n",
    "- `CBOW`:\n",
    "       A continuous bag of words representation that is similar to the skip-gram, except there is small change in the input and output. Also, the word vectors are generated differently in a Skip-gram model and a CBOW model. All the examples with the target word as target are fed into the networks and taking the average of the extracted hidden layer.\n",
    "   \n",
    "#### what is fastText ?\n",
    "fastText is a library for efficient learning of word representations and sentence classification. Instead of feeding individual words into the neural networks, it breaks the words into several n-grams. \n",
    "    "
   ]
  },
  {
   "cell_type": "markdown",
   "metadata": {},
   "source": [
    "# Baseline Deep learning models - a mutli-threaded skip-gram word2vec model "
   ]
  },
  {
   "cell_type": "code",
   "execution_count": null,
   "metadata": {},
   "outputs": [],
   "source": []
  },
  {
   "cell_type": "markdown",
   "metadata": {},
   "source": [
    "# Train the fastText model"
   ]
  },
  {
   "cell_type": "code",
   "execution_count": 4,
   "metadata": {},
   "outputs": [],
   "source": [
    "# read the csv files\n",
    "papers = pd.read_csv('~/Documents/data/nips/papers.csv')\n",
    "author = pd.read_csv('~/Documents/data/nips/authors.csv')\n",
    "p_auth = pd.read_csv('~/Documents/data/nips/paper_authors.csv')\n",
    "\n",
    "# extract the keywords from the scholarly papers\n",
    "def remove_unecessary_stuff(text):\n",
    "    useless_symbols = ['\\x0c','\\n']\n",
    "    for symbols in useless_symbols:\n",
    "        text = text.replace(symbols, ' ')\n",
    "    final = re.sub('^[a-zA-Z]', ' ', text)\n",
    "    return final.lower()\n",
    "\n",
    "# stem\n",
    "def stem_the_sentence(tokens):\n",
    "    return [stemmer('english').stem(token) for token in tokens]\n",
    "\n",
    "# tokenize\n",
    "def tokenize_and_stem(sentence):\n",
    "    # create a dict and stem every token in a given sentence\n",
    "    remove_punct_map = dict((ord(characters), None) for characters in string.punctuation)\n",
    "    return stem_the_sentence(tokenize(sentence.lower().translate(remove_punct_map)))\n",
    "\n",
    "def tokenize_the_sentence(sentence):\n",
    "    # create a dict and stem every token in a given sentence\n",
    "    remove_punct_map = dict((ord(characters), None) for characters in string.punctuation)\n",
    "    return tokenize(sentence.lower().translate(remove_punct_map))"
   ]
  },
  {
   "cell_type": "markdown",
   "metadata": {},
   "source": [
    "# Test the fastText model"
   ]
  },
  {
   "cell_type": "code",
   "execution_count": 5,
   "metadata": {},
   "outputs": [
    {
     "data": {
      "application/vnd.jupyter.widget-view+json": {
       "model_id": "e64427710a334a60aed5f219e4295f63",
       "version_major": 2,
       "version_minor": 0
      },
      "text/plain": [
       "VBox(children=(HTML(value=''), IntProgress(value=0, max=7241)))"
      ]
     },
     "metadata": {},
     "output_type": "display_data"
    },
    {
     "name": "stdout",
     "output_type": "stream",
     "text": [
      "CPU times: user 1min 57s, sys: 1.17 s, total: 1min 58s\n",
      "Wall time: 1min 59s\n"
     ]
    }
   ],
   "source": [
    "# test\n",
    "%time a = [tokenize_the_sentence(papers['paper_text'][each]) for each in log_progress(range(0, len(papers['paper_text'])))]"
   ]
  },
  {
   "cell_type": "markdown",
   "metadata": {},
   "source": [
    "# CPU time the fastText model"
   ]
  },
  {
   "cell_type": "code",
   "execution_count": 6,
   "metadata": {},
   "outputs": [
    {
     "name": "stdout",
     "output_type": "stream",
     "text": [
      "33014648\n",
      "CPU times: user 46min 27s, sys: 18.3 s, total: 46min 45s\n",
      "Wall time: 14min\n"
     ]
    }
   ],
   "source": [
    "total_words = sum(list(map(len, a)))\n",
    "print(total_words)\n",
    "\n",
    "%time fast_text_model = FastText(a, size=100, window=5, min_count=5, workers=4, sg=1)"
   ]
  },
  {
   "cell_type": "markdown",
   "metadata": {},
   "source": [
    "# CPU time for the Word2Vec model"
   ]
  },
  {
   "cell_type": "code",
   "execution_count": 7,
   "metadata": {},
   "outputs": [
    {
     "name": "stdout",
     "output_type": "stream",
     "text": [
      "33014648\n",
      "CPU times: user 21min 15s, sys: 9.69 s, total: 21min 24s\n",
      "Wall time: 5min 42s\n"
     ]
    }
   ],
   "source": [
    "print(total_words)\n",
    "\n",
    "%time word_2_vec = Word2Vec(a, size=100, window=5, min_count=5, workers=4, sg=1)"
   ]
  },
  {
   "cell_type": "code",
   "execution_count": 8,
   "metadata": {},
   "outputs": [
    {
     "name": "stdout",
     "output_type": "stream",
     "text": [
      "CPU times: user 23.4 s, sys: 376 ms, total: 23.8 s\n",
      "Wall time: 24.1 s\n"
     ]
    }
   ],
   "source": [
    "n_features = 1000\n",
    "n_topics = 8\n",
    "n_top_words = 10\n",
    "\n",
    "tfidf_vectorizer = TfidfVectorizer(max_df=0.95, min_df=2,max_features=n_features,stop_words='english')\n",
    "%time tfidf = tfidf_vectorizer.fit_transform(papers['paper_text'])"
   ]
  },
  {
   "cell_type": "code",
   "execution_count": 9,
   "metadata": {},
   "outputs": [
    {
     "name": "stdout",
     "output_type": "stream",
     "text": [
      "3121211\n"
     ]
    }
   ],
   "source": [
    "total_words = sum(list(map(len, a[:1000])))\n",
    "print(total_words)"
   ]
  },
  {
   "cell_type": "code",
   "execution_count": 11,
   "metadata": {},
   "outputs": [
    {
     "name": "stderr",
     "output_type": "stream",
     "text": [
      "/usr/local/lib/python3.6/site-packages/ipykernel_launcher.py:1: DeprecationWarning: Call to deprecated `doesnt_match` (Method will be removed in 4.0.0, use self.wv.doesnt_match() instead).\n",
      "  \"\"\"Entry point for launching an IPython kernel.\n"
     ]
    },
    {
     "data": {
      "text/plain": [
       "'breakfast'"
      ]
     },
     "execution_count": 11,
     "metadata": {},
     "output_type": "execute_result"
    }
   ],
   "source": [
    "fast_text_model.doesnt_match(\"breakfast cereal dinner lunch\".split())"
   ]
  },
  {
   "cell_type": "code",
   "execution_count": 12,
   "metadata": {},
   "outputs": [
    {
     "name": "stderr",
     "output_type": "stream",
     "text": [
      "/usr/local/lib/python3.6/site-packages/ipykernel_launcher.py:11: DeprecationWarning: Call to deprecated `wmdistance` (Method will be removed in 4.0.0, use self.wv.wmdistance() instead).\n",
      "  # This is added back by InteractiveShellApp.init_path()\n"
     ]
    },
    {
     "data": {
      "text/plain": [
       "3.330094809259415"
      ]
     },
     "execution_count": 12,
     "metadata": {},
     "output_type": "execute_result"
    }
   ],
   "source": [
    "sentence_obama = 'Obama speaks to the media in Illinois'.lower().split()\n",
    "sentence_president = 'The president greets the press in Chicago'.lower().split()\n",
    "\n",
    "# Remove their stopwords.\n",
    "from nltk.corpus import stopwords\n",
    "stopwords = stopwords.words('english')\n",
    "sentence_obama = [w for w in sentence_obama if w not in stopwords]\n",
    "sentence_president = [w for w in sentence_president if w not in stopwords]\n",
    "\n",
    "# Compute WMD.\n",
    "distance = fast_text_model.wmdistance(sentence_obama, sentence_president)\n",
    "distance"
   ]
  }
 ],
 "metadata": {
  "kernelspec": {
   "display_name": "Python 3",
   "language": "python",
   "name": "python3"
  },
  "language_info": {
   "codemirror_mode": {
    "name": "ipython",
    "version": 3
   },
   "file_extension": ".py",
   "mimetype": "text/x-python",
   "name": "python",
   "nbconvert_exporter": "python",
   "pygments_lexer": "ipython3",
   "version": "3.6.5"
  }
 },
 "nbformat": 4,
 "nbformat_minor": 2
}
