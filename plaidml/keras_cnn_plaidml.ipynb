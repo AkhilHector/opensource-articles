{
 "cells": [
  {
   "cell_type": "markdown",
   "metadata": {},
   "source": [
    "# Using plaidml to understand performance gains for a convolutional architecture"
   ]
  },
  {
   "cell_type": "markdown",
   "metadata": {},
   "source": [
    "### 1. Import the libraries"
   ]
  },
  {
   "cell_type": "code",
   "execution_count": 1,
   "metadata": {},
   "outputs": [],
   "source": [
    "import plaidml.keras\n",
    "plaidml.keras.install_backend()\n",
    "\n",
    "import keras\n",
    "from keras.datasets import mnist\n",
    "from keras.models import Sequential\n",
    "from keras.layers import Dense, Dropout, Flatten\n",
    "from keras.layers import Conv2D, MaxPooling2D\n",
    "from keras import backend as K"
   ]
  },
  {
   "cell_type": "markdown",
   "metadata": {},
   "source": [
    "### 2. Adjusting the model config"
   ]
  },
  {
   "cell_type": "code",
   "execution_count": 2,
   "metadata": {},
   "outputs": [],
   "source": [
    "batch_size = 128\n",
    "num_classes = 10\n",
    "epochs = 12"
   ]
  },
  {
   "cell_type": "markdown",
   "metadata": {},
   "source": [
    "### 3. Data Preparation"
   ]
  },
  {
   "cell_type": "code",
   "execution_count": 3,
   "metadata": {},
   "outputs": [
    {
     "name": "stdout",
     "output_type": "stream",
     "text": [
      "x_train shape: (60000, 28, 28, 1)\n",
      "60000 train samples\n",
      "10000 test samples\n"
     ]
    }
   ],
   "source": [
    "# input image dimensions\n",
    "img_rows, img_cols = 28, 28\n",
    "\n",
    "# the data, split between train and test sets\n",
    "(x_train, y_train), (x_test, y_test) = mnist.load_data()\n",
    "\n",
    "if K.image_data_format() == 'channels_first':\n",
    "    x_train = x_train.reshape(x_train.shape[0], 1, img_rows, img_cols)\n",
    "    x_test = x_test.reshape(x_test.shape[0], 1, img_rows, img_cols)\n",
    "    input_shape = (1, img_rows, img_cols)\n",
    "else:\n",
    "    x_train = x_train.reshape(x_train.shape[0], img_rows, img_cols, 1)\n",
    "    x_test = x_test.reshape(x_test.shape[0], img_rows, img_cols, 1)\n",
    "    input_shape = (img_rows, img_cols, 1)\n",
    "\n",
    "x_train = x_train.astype('float32')\n",
    "x_test = x_test.astype('float32')\n",
    "x_train /= 255\n",
    "x_test /= 255\n",
    "print('x_train shape:', x_train.shape)\n",
    "print(x_train.shape[0], 'train samples')\n",
    "print(x_test.shape[0], 'test samples')\n",
    "\n",
    "# convert class vectors to binary class matrices\n",
    "y_train = keras.utils.to_categorical(y_train, num_classes)\n",
    "y_test = keras.utils.to_categorical(y_test, num_classes)"
   ]
  },
  {
   "cell_type": "markdown",
   "metadata": {},
   "source": [
    "### 4. Set the model architecture"
   ]
  },
  {
   "cell_type": "code",
   "execution_count": 4,
   "metadata": {},
   "outputs": [
    {
     "name": "stderr",
     "output_type": "stream",
     "text": [
      "INFO:plaidml:Opening device \"metal_amd_radeon_pro_460.0\"\n"
     ]
    }
   ],
   "source": [
    "model = Sequential()\n",
    "model.add(Conv2D(32, kernel_size=(3, 3),\n",
    "                 activation='relu',\n",
    "                 input_shape=input_shape))\n",
    "model.add(Conv2D(64, (3, 3), activation='relu'))\n",
    "model.add(MaxPooling2D(pool_size=(2, 2)))\n",
    "model.add(Dropout(0.25))\n",
    "model.add(Flatten())\n",
    "model.add(Dense(128, activation='relu'))\n",
    "model.add(Dropout(0.5))\n",
    "model.add(Dense(num_classes, activation='softmax'))"
   ]
  },
  {
   "cell_type": "markdown",
   "metadata": {},
   "source": [
    "### 5. Compile the model"
   ]
  },
  {
   "cell_type": "code",
   "execution_count": 5,
   "metadata": {},
   "outputs": [],
   "source": [
    "model.compile(loss=keras.losses.categorical_crossentropy,\n",
    "              optimizer=keras.optimizers.Adadelta(),\n",
    "              metrics=['accuracy'])"
   ]
  },
  {
   "cell_type": "markdown",
   "metadata": {},
   "source": [
    "### 6. Train the CNN model"
   ]
  },
  {
   "cell_type": "markdown",
   "metadata": {},
   "source": [
    "#### 6.1 Using `cpu`"
   ]
  },
  {
   "cell_type": "code",
   "execution_count": 6,
   "metadata": {},
   "outputs": [
    {
     "name": "stdout",
     "output_type": "stream",
     "text": [
      "Train on 60000 samples, validate on 10000 samples\n",
      "Epoch 1/12\n",
      "60000/60000 [==============================] - 96s 2ms/step - loss: 0.2684 - acc: 0.9175 - val_loss: 0.0629 - val_acc: 0.9811\n",
      "Epoch 2/12\n",
      "60000/60000 [==============================] - 95s 2ms/step - loss: 0.0879 - acc: 0.9740 - val_loss: 0.0391 - val_acc: 0.9863\n",
      "Epoch 3/12\n",
      "60000/60000 [==============================] - 96s 2ms/step - loss: 0.0650 - acc: 0.9807 - val_loss: 0.0361 - val_acc: 0.9875\n",
      "Epoch 4/12\n",
      "60000/60000 [==============================] - 95s 2ms/step - loss: 0.0556 - acc: 0.9833 - val_loss: 0.0317 - val_acc: 0.9893\n",
      "Epoch 5/12\n",
      "60000/60000 [==============================] - 94s 2ms/step - loss: 0.0474 - acc: 0.9856 - val_loss: 0.0292 - val_acc: 0.9895\n",
      "Epoch 6/12\n",
      "60000/60000 [==============================] - 96s 2ms/step - loss: 0.0419 - acc: 0.9869 - val_loss: 0.0278 - val_acc: 0.9906\n",
      "Epoch 7/12\n",
      "60000/60000 [==============================] - 98s 2ms/step - loss: 0.0371 - acc: 0.9887 - val_loss: 0.0264 - val_acc: 0.9911\n",
      "Epoch 8/12\n",
      "60000/60000 [==============================] - 98s 2ms/step - loss: 0.0339 - acc: 0.9900 - val_loss: 0.0300 - val_acc: 0.9899\n",
      "Epoch 9/12\n",
      "60000/60000 [==============================] - 96s 2ms/step - loss: 0.0311 - acc: 0.9899 - val_loss: 0.0258 - val_acc: 0.9916\n",
      "Epoch 10/12\n",
      "60000/60000 [==============================] - 99s 2ms/step - loss: 0.0295 - acc: 0.9911 - val_loss: 0.0259 - val_acc: 0.9926\n",
      "Epoch 11/12\n",
      "60000/60000 [==============================] - 100s 2ms/step - loss: 0.0277 - acc: 0.9913 - val_loss: 0.0251 - val_acc: 0.9916\n",
      "Epoch 12/12\n",
      "60000/60000 [==============================] - 101s 2ms/step - loss: 0.0259 - acc: 0.9923 - val_loss: 0.0295 - val_acc: 0.9919\n",
      "CPU times: user 1h 26min 58s, sys: 21min 15s, total: 1h 48min 14s\n",
      "Wall time: 19min 23s\n"
     ]
    },
    {
     "data": {
      "text/plain": [
       "<keras.callbacks.History at 0x136f75ac8>"
      ]
     },
     "execution_count": 6,
     "metadata": {},
     "output_type": "execute_result"
    }
   ],
   "source": [
    "%%time \n",
    "model.fit(x_train, y_train,\n",
    "          batch_size=batch_size,\n",
    "          epochs=epochs,\n",
    "          verbose=1,\n",
    "          validation_data=(x_test, y_test))"
   ]
  },
  {
   "cell_type": "markdown",
   "metadata": {},
   "source": [
    "#### 6.2 Using `metal_amd_gpu`"
   ]
  },
  {
   "cell_type": "code",
   "execution_count": 12,
   "metadata": {},
   "outputs": [
    {
     "name": "stdout",
     "output_type": "stream",
     "text": [
      "Train on 60000 samples, validate on 10000 samples\n",
      "Epoch 1/12\n",
      "60000/60000 [==============================] - 22s 358us/step - loss: 0.2738 - acc: 0.9159 - val_loss: 0.0567 - val_acc: 0.9814\n",
      "Epoch 2/12\n",
      "60000/60000 [==============================] - 18s 307us/step - loss: 0.0897 - acc: 0.9727 - val_loss: 0.0394 - val_acc: 0.9871\n",
      "Epoch 3/12\n",
      "60000/60000 [==============================] - 18s 306us/step - loss: 0.0659 - acc: 0.9801 - val_loss: 0.0380 - val_acc: 0.9870\n",
      "Epoch 4/12\n",
      "60000/60000 [==============================] - 18s 304us/step - loss: 0.0528 - acc: 0.9843 - val_loss: 0.0296 - val_acc: 0.9899\n",
      "Epoch 5/12\n",
      "60000/60000 [==============================] - 18s 307us/step - loss: 0.0465 - acc: 0.9859 - val_loss: 0.0286 - val_acc: 0.9897\n",
      "Epoch 6/12\n",
      "60000/60000 [==============================] - 18s 306us/step - loss: 0.0406 - acc: 0.9874 - val_loss: 0.0296 - val_acc: 0.9895\n",
      "Epoch 7/12\n",
      "60000/60000 [==============================] - 18s 307us/step - loss: 0.0367 - acc: 0.9892 - val_loss: 0.0275 - val_acc: 0.9902\n",
      "Epoch 8/12\n",
      "60000/60000 [==============================] - 18s 304us/step - loss: 0.0327 - acc: 0.9901 - val_loss: 0.0316 - val_acc: 0.9895\n",
      "Epoch 9/12\n",
      "60000/60000 [==============================] - 18s 305us/step - loss: 0.0305 - acc: 0.9910 - val_loss: 0.0273 - val_acc: 0.9905\n",
      "Epoch 10/12\n",
      "60000/60000 [==============================] - 18s 307us/step - loss: 0.0291 - acc: 0.9912 - val_loss: 0.0275 - val_acc: 0.9902\n",
      "Epoch 11/12\n",
      "60000/60000 [==============================] - 19s 309us/step - loss: 0.0272 - acc: 0.9913 - val_loss: 0.0288 - val_acc: 0.9907\n",
      "Epoch 12/12\n",
      "60000/60000 [==============================] - 18s 306us/step - loss: 0.0246 - acc: 0.9925 - val_loss: 0.0281 - val_acc: 0.9899\n"
     ]
    },
    {
     "data": {
      "text/plain": [
       "<keras.callbacks.History at 0x10ab73da0>"
      ]
     },
     "execution_count": 12,
     "metadata": {},
     "output_type": "execute_result"
    }
   ],
   "source": [
    "# using plaidml backend\n",
    "# fit the model\n",
    "%timeit\n",
    "model.fit(x_train, y_train,\n",
    "          batch_size=batch_size,\n",
    "          epochs=epochs,\n",
    "          verbose=1,\n",
    "          validation_data=(x_test, y_test))"
   ]
  },
  {
   "cell_type": "markdown",
   "metadata": {},
   "source": [
    "### 7. Evaluate the model"
   ]
  },
  {
   "cell_type": "code",
   "execution_count": 13,
   "metadata": {},
   "outputs": [
    {
     "name": "stdout",
     "output_type": "stream",
     "text": [
      "Test loss: 0.02810245600938797\n",
      "Test accuracy: 0.9899\n"
     ]
    }
   ],
   "source": [
    "score = model.evaluate(x_test, y_test, verbose=0)\n",
    "print('Test loss:', score[0])\n",
    "print('Test accuracy:', score[1])"
   ]
  },
  {
   "cell_type": "code",
   "execution_count": null,
   "metadata": {},
   "outputs": [],
   "source": []
  }
 ],
 "metadata": {
  "kernelspec": {
   "display_name": "Python 3",
   "language": "python",
   "name": "python3"
  },
  "language_info": {
   "codemirror_mode": {
    "name": "ipython",
    "version": 3
   },
   "file_extension": ".py",
   "mimetype": "text/x-python",
   "name": "python",
   "nbconvert_exporter": "python",
   "pygments_lexer": "ipython3",
   "version": "3.6.5"
  }
 },
 "nbformat": 4,
 "nbformat_minor": 2
}
