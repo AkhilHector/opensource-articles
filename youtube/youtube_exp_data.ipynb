{
 "cells": [
  {
   "cell_type": "markdown",
   "metadata": {},
   "source": [
    "# Youtube experiment"
   ]
  },
  {
   "cell_type": "markdown",
   "metadata": {},
   "source": [
    "## Import the libraries"
   ]
  },
  {
   "cell_type": "code",
   "execution_count": 8,
   "metadata": {},
   "outputs": [],
   "source": [
    "import pandas as pd\n",
    "import seaborn as sns\n",
    "import  matplotlib.pyplot as plt\n",
    "from sklearn.ensemble import RandomForestRegressor\n",
    "from sklearn.cross_validation import train_test_split\n",
    "from sklearn.metrics import mean_squared_error, r2_score"
   ]
  },
  {
   "cell_type": "markdown",
   "metadata": {},
   "source": [
    "## Data preparation"
   ]
  },
  {
   "cell_type": "code",
   "execution_count": 3,
   "metadata": {},
   "outputs": [],
   "source": [
    "# read the dataset\n",
    "rd = pd.read_csv('USvideos.csv')\n",
    "\n",
    "# change booleans to binary\n",
    "rd = rd.assign(comments_disabled = [1 if rd['comments_disabled'][each] == True else 0 for each in range(0, len(rd['comments_disabled']))])\n",
    "rd = rd.assign(ratings_disabled = [1 if rd['ratings_disabled'][each] == True else 0 for each in range(0, len(rd['ratings_disabled']))])\n",
    "rd = rd.assign(video_error_or_removed = [1 if rd['video_error_or_removed'][each] == True else 0 for each in range(0, len(rd['video_error_or_removed']))])\n",
    "\n",
    "# train test\n",
    "y = rd.likes\n",
    "x = rd.drop(['ratings_disabled', 'comments_disabled', 'video_error_or_removed', 'comment_count', 'thumbnail_link', 'description', 'publish_time', 'tags', 'category_id', 'channel_title', 'video_id', 'trending_date', 'likes', 'title'], axis=1)\n",
    "x_train, x_test, y_train, y_test = train_test_split(x, y, test_size=0.2, random_state=1)"
   ]
  },
  {
   "cell_type": "markdown",
   "metadata": {},
   "source": [
    "## Regression Model"
   ]
  },
  {
   "cell_type": "code",
   "execution_count": 4,
   "metadata": {},
   "outputs": [],
   "source": [
    "# random forest regression\n",
    "rfc = RandomForestRegressor(n_estimators=20, min_samples_split=4)\n",
    "rfc.fit(x_train, y_train)\n",
    "pred = rfc.predict(x_test)"
   ]
  },
  {
   "cell_type": "markdown",
   "metadata": {},
   "source": [
    "## Evaluation and Visualization"
   ]
  },
  {
   "cell_type": "code",
   "execution_count": 9,
   "metadata": {},
   "outputs": [
    {
     "name": "stdout",
     "output_type": "stream",
     "text": [
      "mse: 4676365368.570\n",
      "r-squared: 0.780\n",
      "feature-importances: [0.78801486 0.21198514]\n"
     ]
    },
    {
     "data": {
      "text/plain": [
       "<matplotlib.axes._subplots.AxesSubplot at 0x112552fd0>"
      ]
     },
     "execution_count": 9,
     "metadata": {},
     "output_type": "execute_result"
    }
   ],
   "source": [
    "# r-squared and mse\n",
    "r2 = r2_score(y_test, pred)\n",
    "mse = mean_squared_error(y_test, pred)\n",
    "\n",
    "print(\"mse: %0.3f\" % mse)\n",
    "print(\"r-squared: %0.3f\" % r2)\n",
    "print(\"feature-importances:\", rfc.feature_importances_)\n",
    "\n",
    "# convert the feature_importance to a matrix\n",
    "fi = pd.DataFrame(rfc.feature_importances_)\n",
    "fi.plot()\n",
    "plt.show()\n",
    "\n",
    "# visualize the correlation\n",
    "corr = rd.corr()\n",
    "sns.heatmap(corr,xticklabels=corr.columns.values,yticklabels=corr.columns.values)"
   ]
  },
  {
   "cell_type": "code",
   "execution_count": null,
   "metadata": {},
   "outputs": [],
   "source": []
  }
 ],
 "metadata": {
  "kernelspec": {
   "display_name": "Python 3",
   "language": "python",
   "name": "python3"
  },
  "language_info": {
   "codemirror_mode": {
    "name": "ipython",
    "version": 3
   },
   "file_extension": ".py",
   "mimetype": "text/x-python",
   "name": "python",
   "nbconvert_exporter": "python",
   "pygments_lexer": "ipython3",
   "version": "3.6.5"
  }
 },
 "nbformat": 4,
 "nbformat_minor": 2
}
